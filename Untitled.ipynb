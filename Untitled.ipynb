{
 "cells": [
  {
   "cell_type": "markdown",
   "metadata": {},
   "source": [
    "# Perceptron\n",
    "Aus den Vorlesungsfolien:\n",
    "* $\\sigma$ bezeichnet die Aktivierungsmethode.\n",
    "* In diesem Beispiel wird die rectified linear unit (ReLU) als Aktivierungsmethode verwendet.\n",
    "\n",
    "\\begin{eqnarray*}\n",
    "\\text{ReLU}(x)&=&\\max(0,x)\\\\\n",
    "f(x)&=&\\sigma(w\\cdot x+b)\n",
    "\\end{eqnarray*}"
   ]
  },
  {
   "cell_type": "code",
   "execution_count": 16,
   "metadata": {},
   "outputs": [],
   "source": [
    "import numpy\n",
    "\n",
    "class Perceptron():\n",
    "    \n",
    "    def __init__(self, weights = [0.5,1,2], bias = -1):\n",
    "        self.weights = weights\n",
    "        self.bias = bias\n",
    "    \n",
    "    def relu(self, x):\n",
    "        return max(0,x)\n",
    "    \n",
    "    def predict(self,x):\n",
    "        return numpy.dot(self.weights, x) + self.bias"
   ]
  },
  {
   "cell_type": "code",
   "execution_count": 15,
   "metadata": {
    "scrolled": true
   },
   "outputs": [
    {
     "name": "stdout",
     "output_type": "stream",
     "text": [
      "2.0\n"
     ]
    }
   ],
   "source": [
    "x = [0,1,1]\n",
    "per = perceptron2()\n",
    "print(per.predict(x))"
   ]
  },
  {
   "cell_type": "code",
   "execution_count": null,
   "metadata": {},
   "outputs": [],
   "source": []
  }
 ],
 "metadata": {
  "kernelspec": {
   "display_name": "Python 3",
   "language": "python",
   "name": "python3"
  },
  "language_info": {
   "codemirror_mode": {
    "name": "ipython",
    "version": 3
   },
   "file_extension": ".py",
   "mimetype": "text/x-python",
   "name": "python",
   "nbconvert_exporter": "python",
   "pygments_lexer": "ipython3",
   "version": "3.5.3"
  }
 },
 "nbformat": 4,
 "nbformat_minor": 2
}
