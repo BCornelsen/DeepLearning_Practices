{
 "cells": [
  {
   "cell_type": "markdown",
   "metadata": {},
   "source": [
    "# Perceptron\n",
    "Aus den Vorlesungsfolien:\n",
    "* $\\sigma$ bezeichnet die Aktivierungsmethode.\n",
    "* In diesem Beispiel wird die rectified linear unit (ReLU) als Aktivierungsmethode verwendet.\n",
    "\n",
    "\\begin{eqnarray*}\n",
    "f(x)&=&\\sigma(w\\times x+b)\\\\\n",
    "\\end{eqnarray*}\n",
    "\n",
    "\n",
    "\\begin{eqnarray*}\n",
    "f_\\text{ReLU}(x)&=&\\text{Relu}(w\\times x+b)\\\\\n",
    "\\text{ReLU}(x)&=&\\min(\\max(0,x),1)\\\\\n",
    "\\end{eqnarray*}\n",
    "\n",
    "\\begin{eqnarray*}\n",
    "f_\\text{tanh}(x)&=&\\text{tanh}(w\\times x+b)\\\\\n",
    "\\text{tanh}(x)&=&\\frac{2}{1+e^{-2\\cdot x}}-1\\\\\n",
    "\\end{eqnarray*}\n",
    "\n",
    "\\begin{eqnarray*}\n",
    "f_\\text{sig}(x)&=&\\text{sig}(w\\times x+b)\\\\\n",
    "\\text{sig}(x)&=&\\frac{1}{1+e^{-x}}\\\\\n",
    "\\end{eqnarray*}"
   ]
  },
  {
   "cell_type": "code",
   "execution_count": 2,
   "metadata": {},
   "outputs": [],
   "source": [
    "import numpy\n",
    "\n",
    "class Perceptron():\n",
    "    \n",
    "    def __init__(self, weights = [0.5,1,2], bias = -1):\n",
    "        self.weights = weights\n",
    "        self.bias = bias\n",
    "    \n",
    "    def relu(self, x):\n",
    "        return min(max(0,x),1)\n",
    "    \n",
    "    def predict(self,x):\n",
    "        return self.relu(numpy.dot(self.weights, x) + self.bias)\n",
    "    \n",
    "    def tanh(self, x):\n",
    "        return 2/(1+ numpy.exp(-2*x))-1\n",
    "    \n",
    "    def predict_tanh(self, x):\n",
    "        return self.tanh(numpy.dot(self.weights, x) + self.bias)\n",
    "    \n",
    "    def sig(self,x):\n",
    "        return 1/(1+numpy.exp(-x))\n",
    "    \n",
    "    def predict_sig(self, x):\n",
    "        return self.sig(numpy.dot(self.weights, x) + self.bias)"
   ]
  },
  {
   "cell_type": "code",
   "execution_count": 18,
   "metadata": {
    "scrolled": true
   },
   "outputs": [
    {
     "name": "stdout",
     "output_type": "stream",
     "text": [
      "1\n"
     ]
    }
   ],
   "source": [
    "x = [0,1,1]\n",
    "per = Perceptron()\n",
    "print(per.predict(x))"
   ]
  },
  {
   "cell_type": "code",
   "execution_count": 19,
   "metadata": {},
   "outputs": [
    {
     "name": "stdout",
     "output_type": "stream",
     "text": [
      "0.9640275800758169\n"
     ]
    }
   ],
   "source": [
    "print(per.predict_tanh(x))"
   ]
  },
  {
   "cell_type": "code",
   "execution_count": 5,
   "metadata": {},
   "outputs": [
    {
     "name": "stdout",
     "output_type": "stream",
     "text": [
      "0.8807970779778823\n"
     ]
    }
   ],
   "source": [
    "print(per.predict_sig(x))"
   ]
  },
  {
   "cell_type": "code",
   "execution_count": 13,
   "metadata": {},
   "outputs": [
    {
     "data": {
      "text/plain": [
       "<function matplotlib.pyplot.show(*args, **kw)>"
      ]
     },
     "execution_count": 13,
     "metadata": {},
     "output_type": "execute_result"
    },
    {
     "data": {
      "image/png": "[encoded data removed]",
      "text/plain": [
       "<Figure size 432x288 with 1 Axes>"
      ]
     },
     "metadata": {
      "needs_background": "light"
     },
     "output_type": "display_data"
    }
   ],
   "source": [
    "import matplotlib.pyplot as plot\n",
    "\n",
    "fig = plot.figure()\n",
    "ax = fig.add_subplot(1, 1, 1)\n",
    "\n",
    "# Move left y-axis and bottim x-axis to centre, passing through (0,0)\n",
    "ax.spines['left'].set_position('center')\n",
    "ax.spines['bottom'].set_position('center')\n",
    "\n",
    "# Eliminate upper and right axes\n",
    "ax.spines['right'].set_color('none')\n",
    "ax.spines['top'].set_color('none')\n",
    "\n",
    "# Show ticks in the left and lower axes only\n",
    "ax.xaxis.set_ticks_position('bottom')\n",
    "ax.yaxis.set_ticks_position('left')\n",
    "\n",
    "\n",
    "x = numpy.arange(-4.,4.,0.1)\n",
    "\n",
    "plot.plot(x,per.sig(x),label='sigmoid')\n",
    "plot.plot(x,per.tanh(x),label='tanh')\n",
    "\n",
    "plot.legend(loc='upper left')\n",
    "\n",
    "plot.show"
   ]
  },
  {
   "cell_type": "code",
   "execution_count": null,
   "metadata": {},
   "outputs": [],
   "source": []
  }
 ],
 "metadata": {
  "kernelspec": {
   "display_name": "Python 3",
   "language": "python",
   "name": "python3"
  }
 },
 "nbformat": 4,
 "nbformat_minor": 2
}
